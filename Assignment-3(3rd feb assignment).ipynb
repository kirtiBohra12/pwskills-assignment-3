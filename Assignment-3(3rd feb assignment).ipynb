{
 "cells": [
  {
   "cell_type": "markdown",
   "id": "de12926e",
   "metadata": {},
   "source": [
    "# ASSIGNMENT-3"
   ]
  },
  {
   "cell_type": "markdown",
   "id": "3e64ae8a",
   "metadata": {},
   "source": [
    "**Q1.** Which keyword is used to create a function? Create a function to return a list of odd numbers in the\n",
    "range of 1 to 25."
   ]
  },
  {
   "cell_type": "markdown",
   "id": "a7064ebe",
   "metadata": {},
   "source": [
    "**Ans.** 'def' keyword is used to create a function. It is written along with the function's name and a colon (:) followed by the functions definition.\n",
    "<br>\n",
    "syntax:<br>\n",
    "def function_name(arguments):<br>\n",
    "&emsp;---function definition---"
   ]
  },
  {
   "cell_type": "code",
   "execution_count": 3,
   "id": "b743cef0",
   "metadata": {},
   "outputs": [],
   "source": [
    "l1=[]\n",
    "def odd_numbers():\n",
    "    for i in range(1,25):\n",
    "        if i%2==1:\n",
    "            l1.append(i)\n",
    "    print(l1)        "
   ]
  },
  {
   "cell_type": "code",
   "execution_count": 4,
   "id": "70333459",
   "metadata": {},
   "outputs": [
    {
     "name": "stdout",
     "output_type": "stream",
     "text": [
      "[1, 3, 5, 7, 9, 11, 13, 15, 17, 19, 21, 23]\n"
     ]
    }
   ],
   "source": [
    "odd_numbers()"
   ]
  },
  {
   "cell_type": "markdown",
   "id": "c4ef4bc2",
   "metadata": {},
   "source": [
    "**Q2.** Why \\*args and \\*\\*kwargs is used in some functions? Create a function each for \\*args and \\*\\*kwargs to demonstrate their use."
   ]
  },
  {
   "cell_type": "markdown",
   "id": "07af1451",
   "metadata": {},
   "source": [
    "**Ans.** In Python, \\*args and \\**kwargs are used in function definitions to allow a variable number of arguments.<br>\n",
    "\n",
    "- \\*args allows a function to accept any number of positional arguments. It collects them into a tuple.<br>\n",
    "\n",
    "- \\**kwargs allows a function to accept any number of keyword arguments. It collects them into a dictionary."
   ]
  },
  {
   "cell_type": "code",
   "execution_count": 5,
   "id": "546b8d64",
   "metadata": {},
   "outputs": [
    {
     "name": "stdout",
     "output_type": "stream",
     "text": [
      "1\n",
      "2\n",
      "3\n",
      "four\n",
      "[5, 6]\n",
      "name: John\n",
      "age: 25\n",
      "city: New York\n"
     ]
    }
   ],
   "source": [
    "def show_args(*args):\n",
    "    for arg in args:\n",
    "        print(arg)\n",
    "\n",
    "def show_kwargs(**kwargs):\n",
    "    for key, value in kwargs.items():\n",
    "        print(f\"{key}: {value}\")\n",
    "\n",
    "show_args(1, 2, 3, \"four\", [5, 6])\n",
    "show_kwargs(name=\"John\", age=25, city=\"New York\")"
   ]
  },
  {
   "cell_type": "markdown",
   "id": "2373776a",
   "metadata": {},
   "source": [
    "**Q3.** What is an iterator in python? Name the method used to initialise the iterator object and the method used for iteration. Use these methods to print the first five elements of the given list [2, 4, 6, 8, 10, 12, 14,16, 18, 20]."
   ]
  },
  {
   "cell_type": "markdown",
   "id": "71e5605a",
   "metadata": {},
   "source": [
    "**Ans.** In Python, an iterator is an object that implements the iterator protocol, which consists of two methods:<br>\n",
    "\n",
    "- __iter__ method: This method is called when you create an iterator object using the iter() function. It should return the iterator object itself.<br>\n",
    "\n",
    "- __next__ method: This method is called to get the next value from the iterator using the next() function. When there are no more items to return, it should raise the StopIteration exception."
   ]
  },
  {
   "cell_type": "code",
   "execution_count": 6,
   "id": "70d95c83",
   "metadata": {},
   "outputs": [
    {
     "name": "stdout",
     "output_type": "stream",
     "text": [
      "2\n",
      "4\n",
      "6\n",
      "8\n",
      "10\n"
     ]
    }
   ],
   "source": [
    "my_list = [2, 4, 6, 8, 10, 12, 14, 16, 18, 20]\n",
    "\n",
    "my_iterator = iter(my_list)\n",
    "\n",
    "for _ in range(5):\n",
    "    print(next(my_iterator))"
   ]
  },
  {
   "cell_type": "markdown",
   "id": "f2bfbf62",
   "metadata": {},
   "source": [
    "**Q4.** What is a generator function in python? Why yield keyword is used? Give an example of a generator\n",
    "function."
   ]
  },
  {
   "cell_type": "markdown",
   "id": "b07b3077",
   "metadata": {},
   "source": [
    "**Ans.** A generator function in Python is a special type of function that allows you to create an iterator by using the yield keyword. Unlike regular functions that execute and return a single result, generator functions produce a sequence of values over multiple calls. Each time the yield statement is encountered, the function's state is saved, and the yielded value is returned to the caller. The next time the generator is called, it resumes execution from where it was paused.<br><br>\n",
    "- The primary advantage of using generator functions and the yield keyword is that they allow you to create iterators efficiently, particularly for large datasets, without having to store all the values in memory at once.<br>\n",
    "Example:"
   ]
  },
  {
   "cell_type": "code",
   "execution_count": 13,
   "id": "b3a50215",
   "metadata": {},
   "outputs": [
    {
     "name": "stdout",
     "output_type": "stream",
     "text": [
      "0\n",
      "1\n",
      "2\n",
      "3\n",
      "4\n",
      "5\n",
      "6\n",
      "7\n",
      "8\n",
      "9\n"
     ]
    }
   ],
   "source": [
    "def my_generator(n):\n",
    "    for i in range(n):\n",
    "        yield i\n",
    "        \n",
    "gen = my_generator(10)\n",
    "for i in range(10):\n",
    "    print(next(gen))"
   ]
  },
  {
   "cell_type": "markdown",
   "id": "263cc148",
   "metadata": {},
   "source": [
    "**Q5.** Create a generator function for prime numbers less than 1000. Use the next() method to print the\n",
    "first 20 prime numbers."
   ]
  },
  {
   "cell_type": "code",
   "execution_count": 10,
   "id": "36932ab3",
   "metadata": {},
   "outputs": [
    {
     "name": "stdout",
     "output_type": "stream",
     "text": [
      "2\n",
      "3\n",
      "5\n",
      "7\n",
      "11\n",
      "13\n",
      "17\n",
      "19\n",
      "23\n",
      "29\n",
      "31\n",
      "37\n",
      "41\n",
      "43\n",
      "47\n",
      "53\n",
      "59\n",
      "61\n",
      "67\n",
      "71\n"
     ]
    }
   ],
   "source": [
    "def gen_primes(n):\n",
    "    primes = []\n",
    "    for num in range(2, n):\n",
    "        for i in range(2, num):\n",
    "            if (num % i) == 0:\n",
    "                break\n",
    "        else:\n",
    "            primes.append(num)\n",
    "            yield num\n",
    "primes = gen_primes(1000)\n",
    "for i in range(20):\n",
    "    print(next(primes))"
   ]
  },
  {
   "cell_type": "markdown",
   "id": "d4d559a3",
   "metadata": {},
   "source": [
    "**Q6.** Write a python program to print the first 10 Fibonacci numbers using a while loop."
   ]
  },
  {
   "cell_type": "code",
   "execution_count": 14,
   "id": "8843547c",
   "metadata": {},
   "outputs": [
    {
     "name": "stdout",
     "output_type": "stream",
     "text": [
      "Fibonacci sequence:\n",
      "0\n",
      "1\n",
      "1\n",
      "2\n",
      "3\n",
      "5\n",
      "8\n",
      "13\n",
      "21\n",
      "34\n"
     ]
    }
   ],
   "source": [
    "n = 10\n",
    "n1, n2 = 0, 1\n",
    "count = 0\n",
    "\n",
    "if n <= 0:\n",
    "    print(\"Please enter a positive integer\")\n",
    "elif n == 1:\n",
    "    print(\"Fibonacci sequence upto\", n, \":\")\n",
    "    print(n1)\n",
    "else:\n",
    "    print(\"Fibonacci sequence:\")\n",
    "    while count < n:\n",
    "        print(n1)\n",
    "        nth = n1 + n2\n",
    "        # update values\n",
    "        n1 = n2\n",
    "        n2 = nth\n",
    "        count += 1"
   ]
  },
  {
   "cell_type": "markdown",
   "id": "fd25d1ae",
   "metadata": {},
   "source": [
    "**Q7.** Write a List Comprehension to iterate through the given string: ‘pwskills’.<br>\n",
    "Expected output: ['p', 'w', 's', 'k', 'i', 'l', 'l', 's']"
   ]
  },
  {
   "cell_type": "code",
   "execution_count": 15,
   "id": "3cdf4bd2",
   "metadata": {},
   "outputs": [
    {
     "name": "stdout",
     "output_type": "stream",
     "text": [
      "['p', 'w', 's', 'k', 'i', 'l', 'l', 's']\n"
     ]
    }
   ],
   "source": [
    "string = 'pwskills'\n",
    "char_list = [char for char in string]\n",
    "print(char_list)"
   ]
  },
  {
   "cell_type": "markdown",
   "id": "55438da8",
   "metadata": {},
   "source": [
    "**Q8.** Write a python program to check whether a given number is Palindrome or not using a while loop."
   ]
  },
  {
   "cell_type": "code",
   "execution_count": 17,
   "id": "effe9224",
   "metadata": {},
   "outputs": [
    {
     "name": "stdout",
     "output_type": "stream",
     "text": [
      "Enter a number: 12321\n",
      "12321 is a palindrome!\n"
     ]
    }
   ],
   "source": [
    "num = int(input(\"Enter a number: \"))\n",
    "\n",
    "temp = num\n",
    "rev = 0\n",
    "\n",
    "while num > 0:\n",
    "    dig = num % 10\n",
    "    rev = rev * 10 + dig\n",
    "    num = num // 10\n",
    "\n",
    "if temp == rev:\n",
    "    print(f\"{temp} is a palindrome!\")\n",
    "else:\n",
    "    print(f\"{temp} is not a palindrome.\")"
   ]
  },
  {
   "cell_type": "markdown",
   "id": "ca37b6c1",
   "metadata": {},
   "source": [
    "**Q9.** Write a code to print odd numbers from 1 to 100 using list comprehension.<br>\n",
    "Note: Use a list comprehension to create a list from 1 to 100 and use another List comprehension to filter out odd numbers."
   ]
  },
  {
   "cell_type": "code",
   "execution_count": 18,
   "id": "bdcf8bf8",
   "metadata": {},
   "outputs": [
    {
     "name": "stdout",
     "output_type": "stream",
     "text": [
      "[1, 3, 5, 7, 9, 11, 13, 15, 17, 19, 21, 23, 25, 27, 29, 31, 33, 35, 37, 39, 41, 43, 45, 47, 49, 51, 53, 55, 57, 59, 61, 63, 65, 67, 69, 71, 73, 75, 77, 79, 81, 83, 85, 87, 89, 91, 93, 95, 97, 99]\n"
     ]
    }
   ],
   "source": [
    "# List comprehension to create a list from 1 to 100\n",
    "numbers = list(range(1, 101))\n",
    "\n",
    "# List comprehension to filter out odd numbers\n",
    "odd_numbers = [num for num in numbers if num % 2 != 0]\n",
    "\n",
    "print(odd_numbers)"
   ]
  }
 ],
 "metadata": {
  "kernelspec": {
   "display_name": "Python 3 (ipykernel)",
   "language": "python",
   "name": "python3"
  },
  "language_info": {
   "codemirror_mode": {
    "name": "ipython",
    "version": 3
   },
   "file_extension": ".py",
   "mimetype": "text/x-python",
   "name": "python",
   "nbconvert_exporter": "python",
   "pygments_lexer": "ipython3",
   "version": "3.10.4"
  }
 },
 "nbformat": 4,
 "nbformat_minor": 5
}
